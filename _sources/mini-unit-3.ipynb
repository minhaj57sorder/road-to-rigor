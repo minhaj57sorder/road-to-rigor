{
 "cells": [
  {
   "cell_type": "markdown",
   "metadata": {
    "id": "qjGMYA3pJ3zb"
   },
   "source": [
    "# Solving Individual Rigor Problems\n",
    "\n",
    "```{dropdown} Mini-Unit Learning Objectives\n",
    "By the end of this mini-unit, you will be able to...\n",
    "\n",
    "1. ...identify problems and opportunities in your own work.\n",
    "2. ...diagnose the sources of poor rigor and opportunities for better methods in your own work.\n",
    "3. ...address rigor issues by researching and integrating solutions.\n",
    "```"
   ]
  },
  {
   "cell_type": "markdown",
   "metadata": {},
   "source": [
    "***"
   ]
  },
  {
   "cell_type": "code",
   "execution_count": 30,
   "metadata": {
    "cellView": "form",
    "colab": {
     "base_uri": "https://localhost:8080/",
     "height": 741
    },
    "id": "ts1fqe0XJ3zc",
    "outputId": "22327535-dafa-4e2d-813b-b8fa2c14ca81",
    "scrolled": false,
    "tags": [
     "hide-input",
     "full-width"
    ]
   },
   "outputs": [
    {
     "data": {
      "text/html": [
       "\n",
       "        <iframe\n",
       "            width=\"895\"\n",
       "            height=\"555\"\n",
       "            src=\"https://docs.google.com/presentation/d/e/2PACX-1vTFQtLWLCl31lA7yrlpJs35sUosS5oKAHapOLPKFZhvwbS0fwZA0q81m8W7Yqydbg/embed?start=false&loop=false&delayms=60000\"\n",
       "            frameborder=\"0\"\n",
       "            allowfullscreen\n",
       "            \n",
       "        ></iframe>\n",
       "        "
      ],
      "text/plain": [
       "<IPython.lib.display.IFrame at 0x10af10eeb60>"
      ]
     },
     "execution_count": 30,
     "metadata": {},
     "output_type": "execute_result"
    }
   ],
   "source": [
    "# @Video Lecture 1\n",
    "from IPython.display import IFrame\n",
    "IFrame(src=f\"https://docs.google.com/presentation/d/e/2PACX-1vTFQtLWLCl31lA7yrlpJs35sUosS5oKAHapOLPKFZhvwbS0fwZA0q81m8W7Yqydbg/embed?start=false&loop=false&delayms=60000\", width=895, height=555)"
   ]
  },
  {
   "cell_type": "markdown",
   "metadata": {},
   "source": [
    "***"
   ]
  },
  {
   "cell_type": "markdown",
   "metadata": {
    "id": "gjbf5tUHMpw8",
    "tags": [
     "full-width"
    ]
   },
   "source": [
    "```{margin} Relevant Links\n",
    "- [Docs Link](https://docs.google.com/document/d/1BxLreDBArSOFXYxYDIaXcPGzLi-RHbfCEh2e4SmycZk/edit)   \n",
    "- [Figma Link](https://www.figma.com/file/0ZGgd8rUIEkGkmp8WTJUxe/Activity-1.3-Road-to-Rigor%2C-Lab-Version?type=design&node-id=0-1&mode=design)    \n",
    "- [Demo](https://jackliddy.github.io/R2R-activity-1-3/intro.html)\n",
    "```\n",
    "```{admonition} Activity: Whiteboard exercise\n",
    ":class: tip\n",
    "As a student, I want to share the challenges and pain points of working within my lab, as they relate to issues of rigor and reproducibility.\n",
    "I want to privately organize a set of sticky notes that include common rigor issues on a whiteboard with 4 quadrants. This allows me to prioritize the issues that I am interested in and that I think would have a big impact on my work in my lab. \n",
    "I want the results of this activity revealed so all lab members can see how they organized their sticky notes.\n",
    "I want to be able to explore the resources and solutions available for the issues prioritized by my lab in the exercise \n",
    "```"
   ]
  },
  {
   "cell_type": "code",
   "execution_count": 2,
   "metadata": {
    "tags": [
     "full-width",
     "hide-input"
    ]
   },
   "outputs": [
    {
     "data": {
      "text/html": [
       "\n",
       "        <iframe\n",
       "            width=\"850\"\n",
       "            height=\"1000\"\n",
       "            src=\"https://jackliddy.github.io/R2R-activity-1-3/intro.html\"\n",
       "            frameborder=\"0\"\n",
       "            allowfullscreen\n",
       "            \n",
       "        ></iframe>\n",
       "        "
      ],
      "text/plain": [
       "<IPython.lib.display.IFrame at 0x1530fafac80>"
      ]
     },
     "execution_count": 2,
     "metadata": {},
     "output_type": "execute_result"
    }
   ],
   "source": [
    "from IPython.display import IFrame\n",
    "IFrame(src=f\"https://jackliddy.github.io/R2R-activity-1-3/intro.html\", width=850, height=1000)"
   ]
  },
  {
   "cell_type": "code",
   "execution_count": null,
   "metadata": {},
   "outputs": [],
   "source": []
  }
 ],
 "metadata": {
  "celltoolbar": "Tags",
  "colab": {
   "provenance": []
  },
  "kernelspec": {
   "display_name": "Python 3 (ipykernel)",
   "language": "python",
   "name": "python3"
  },
  "language_info": {
   "codemirror_mode": {
    "name": "ipython",
    "version": 3
   },
   "file_extension": ".py",
   "mimetype": "text/x-python",
   "name": "python",
   "nbconvert_exporter": "python",
   "pygments_lexer": "ipython3",
   "version": "3.10.10"
  }
 },
 "nbformat": 4,
 "nbformat_minor": 1
}
