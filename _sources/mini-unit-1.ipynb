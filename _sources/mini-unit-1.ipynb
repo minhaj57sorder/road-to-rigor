{
 "cells": [
  {
   "cell_type": "markdown",
   "metadata": {},
   "source": [
    "# The Extent of The Problem\n",
    "\n",
    "```{dropdown} Mini-Unit Learning Objectives\n",
    "By the end of this mini-unit, you will be able to...\n",
    "\n",
    "1. ...describe the nature, breadth, and scope of rigor and reproducibility issues in research.\n",
    "2. ...assess the consequences and benefits of real life rigor scenarios on individual researchers.\n",
    "```"
   ]
  },
  {
   "cell_type": "markdown",
   "metadata": {},
   "source": [
    "***"
   ]
  },
  {
   "cell_type": "code",
   "execution_count": 4,
   "metadata": {
    "cellView": "form",
    "colab": {
     "base_uri": "https://localhost:8080/",
     "height": 741
    },
    "id": "jvDbQGPkJ3za",
    "outputId": "541eb0ba-b99a-4a27-d69e-a8c39cf6d368",
    "scrolled": false,
    "tags": [
     "hide-input",
     "full-width"
    ]
   },
   "outputs": [
    {
     "data": {
      "text/html": [
       "\n",
       "        <iframe\n",
       "            width=\"760\"\n",
       "            height=\"475\"\n",
       "            src=\"https://docs.google.com/presentation/d/e/2PACX-1vTylHoDT4DBmpmtlbjPOBouXgC7HLNWn4CIZxgRma9tFOrNkMV4qDN7rUiIEmYbsA/embed?start=false&loop=false&delayms=60000\"\n",
       "            frameborder=\"0\"\n",
       "            allowfullscreen\n",
       "            \n",
       "        ></iframe>\n",
       "        "
      ],
      "text/plain": [
       "<IPython.lib.display.IFrame at 0x23c231ef190>"
      ]
     },
     "execution_count": 4,
     "metadata": {},
     "output_type": "execute_result"
    }
   ],
   "source": [
    "# @Video Lecture 1\n",
    "from IPython.display import IFrame\n",
    "IFrame(src=f\"https://docs.google.com/presentation/d/e/2PACX-1vTylHoDT4DBmpmtlbjPOBouXgC7HLNWn4CIZxgRma9tFOrNkMV4qDN7rUiIEmYbsA/embed?start=false&loop=false&delayms=60000\", width=895, height=555)"
   ]
  },
  {
   "cell_type": "markdown",
   "metadata": {
    "tags": [
     "full-width"
    ]
   },
   "source": [
    "```{margin} Relevant Links\n",
    "- [Notion Link](https://www.notion.so/Widget-1-Road-to-Rigor-Lab-Version-7ac72f54cfde41c48e54a334a27717f2?pvs=4)  \n",
    "- [SE Figma Link](https://www.figma.com/file/dWZr8JBth2mcEikgxfBq8K/R2R-LM-Widget-1?type=design&node-id=0%3A1&mode=design&t=XMKDXBromDRJ5d1W-1) \n",
    "- [AP Figma Link](https://www.figma.com/file/FTXRVUGdcKXl6WUX2SBnwH/Audience-Prompting?type=design&node-id=0%3A1&mode=design&t=0Om6l6fFeO0njcS6-1)   \n",
    "```\n",
    "```{admonition} Widget: Statistics Exercise\n",
    ":class: tip\n",
    "As a presenting student, I want to see interactive charts that ask the following questions:\n",
    "\n",
    "1. What percentage of researchers believe that there is a reproducibility crisis?\n",
    "2. What percentage of researchers in my field have failed to reproduce someone else’s experiment?\n",
    "3. What percentage of researchers in my field have failed to reproduce their own experiment?\n",
    "4. What percentage of work in my field do relevant researchers think is reproducible?\n",
    "\n",
    "For each of these, I want to be able to click and drag on the chart to make my guess. Once I lock in my guess, I want to see the real value in another chart next to mine. I would also like to see suggestions for lab discussion of the results for each stat.\n",
    "\n",
    "At the end, I want to be given an audience prompt asking all non-presenting students the following questions:\n",
    "\n",
    "Were you surprised by the difference between your guesses and the Baker findings? What do you suppose the results might suggest about your lab?\n",
    "\n",
    "```"
   ]
  },
  {
   "cell_type": "markdown",
   "metadata": {
    "tags": [
     "full-width"
    ]
   },
   "source": [
    "```{margin} Relevant Links\n",
    "- [Notion Link](https://www.notion.so/Activity-1-Road-to-Rigor-Lab-Version-5f4d1b863b884620acd4a88da53747a0?pvs=4)   \n",
    "- [Figma Link](https://www.figma.com/file/eOTe2ZxUvxTkZUuW87mLgU/R2R-LM-Activity-1?type=design&node-id=0%3A1&mode=design&t=KtmYhXMmdYowLMpA-1)\n",
    "```\n",
    "```{admonition} Activity: Clip repository\n",
    ":class: tip\n",
    "As a student, I want to be presented with relevant clips of people discussing their real life experiences with rigor and how they’ve been impacted by the lack of it. Should my curiosity be piqued (or should I find that none of the suggested clips be of interest to me), I’d like to be able to browse all clips according to field/career stage/rigor issue. Once I finish a video, I want to be presented with a button that allows me to proceed. Clicking on it should trigger a short discussion session based on the video.     \n",
    "   \n",
    "I should also be able to share each clip in the repository with the click of a button to tweet about it, share it on WhatsApp, link directly to it, etc.  \n",
    "```"
   ]
  },
  {
   "cell_type": "markdown",
   "metadata": {},
   "source": [
    "***"
   ]
  },
  {
   "cell_type": "code",
   "execution_count": 2,
   "metadata": {
    "scrolled": false,
    "tags": [
     "hide-input",
     "full-width"
    ]
   },
   "outputs": [
    {
     "data": {
      "text/html": [
       "\n",
       "        <iframe\n",
       "            width=\"900\"\n",
       "            height=\"540\"\n",
       "            src=\"https://docs.google.com/presentation/d/e/2PACX-1vTDoYpJ2kjAVdcXyTppgmrearSU7naEDSyj_bFoEuY2GyV4BoDj7fNm-g9q394ZNA/embed?start=false&loop=false&delayms=60000\"\n",
       "            frameborder=\"0\"\n",
       "            allowfullscreen\n",
       "            \n",
       "        ></iframe>\n",
       "        "
      ],
      "text/plain": [
       "<IPython.lib.display.IFrame at 0x23c231ee9e0>"
      ]
     },
     "execution_count": 2,
     "metadata": {},
     "output_type": "execute_result"
    }
   ],
   "source": [
    "# @Video Lecture 2\n",
    "from IPython.display import IFrame\n",
    "IFrame(src=f\"https://docs.google.com/presentation/d/e/2PACX-1vTDoYpJ2kjAVdcXyTppgmrearSU7naEDSyj_bFoEuY2GyV4BoDj7fNm-g9q394ZNA/embed?start=false&loop=false&delayms=60000\", width=895, height=555)"
   ]
  }
 ],
 "metadata": {
  "celltoolbar": "Tags",
  "colab": {
   "provenance": []
  },
  "kernelspec": {
   "display_name": "Python 3 (ipykernel)",
   "language": "python",
   "name": "python3"
  },
  "language_info": {
   "codemirror_mode": {
    "name": "ipython",
    "version": 3
   },
   "file_extension": ".py",
   "mimetype": "text/x-python",
   "name": "python",
   "nbconvert_exporter": "python",
   "pygments_lexer": "ipython3",
   "version": "3.10.10"
  }
 },
 "nbformat": 4,
 "nbformat_minor": 1
}
