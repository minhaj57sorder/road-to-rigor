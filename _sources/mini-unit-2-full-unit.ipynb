{
 "cells": [
  {
   "cell_type": "markdown",
   "metadata": {
    "id": "2u83dT73J3zb"
   },
   "source": [
    "# Motive & Method\n",
    "\n",
    "```{dropdown} Mini-Unit Learning Objectives\n",
    "By the end of this mini-unit, you will be able to...\n",
    "\n",
    "1. ...articulate your own motivations and goals for pursuing research.\n",
    "2. ...examine the connections between those motivations/goals and the rigor of your work.\n",
    "```"
   ]
  },
  {
   "cell_type": "markdown",
   "metadata": {},
   "source": [
    "***"
   ]
  },
  {
   "cell_type": "markdown",
   "metadata": {
    "tags": [
     "full-width"
    ]
   },
   "source": [
    "```{admonition} A Personal Note\n",
    ":class: tip\n",
    "![image alt ><](https://i.imgur.com/0pVtDSg.png#center) \n",
    "```"
   ]
  },
  {
   "cell_type": "code",
   "execution_count": 20,
   "metadata": {
    "cellView": "form",
    "colab": {
     "base_uri": "https://localhost:8080/",
     "height": 741
    },
    "id": "ZCv0A5RCJ3zb",
    "outputId": "372c1ec3-5f36-4bb6-bb48-951b495605de",
    "tags": [
     "hide-input",
     "full-width"
    ]
   },
   "outputs": [
    {
     "data": {
      "text/html": [
       "\n",
       "        <iframe\n",
       "            width=\"895\"\n",
       "            height=\"555\"\n",
       "            src=\"https://docs.google.com/presentation/d/e/2PACX-1vTaeXh9wDCkNvXdBSmw6Tf3GY8YmDEib3XLwuUAzy6PCtX2gHs17RzlSjIJQrUfTA/embed?start=false&loop=false&delayms=60000\"\n",
       "            frameborder=\"0\"\n",
       "            allowfullscreen\n",
       "            \n",
       "        ></iframe>\n",
       "        "
      ],
      "text/plain": [
       "<IPython.lib.display.IFrame at 0x1743e26ed70>"
      ]
     },
     "execution_count": 20,
     "metadata": {},
     "output_type": "execute_result"
    }
   ],
   "source": [
    "# @Video Lecture 1\n",
    "from IPython.display import IFrame\n",
    "IFrame(src=f\"https://docs.google.com/presentation/d/e/2PACX-1vTaeXh9wDCkNvXdBSmw6Tf3GY8YmDEib3XLwuUAzy6PCtX2gHs17RzlSjIJQrUfTA/embed?start=false&loop=false&delayms=60000\", width=895, height=555)"
   ]
  },
  {
   "cell_type": "markdown",
   "metadata": {},
   "source": [
    "***"
   ]
  },
  {
   "cell_type": "markdown",
   "metadata": {
    "id": "zRlVpeYAR2Q4",
    "tags": [
     "full-width"
    ]
   },
   "source": [
    "```{margin} Relevant Links\n",
    "- [Notion Link](https://www.notion.so/Activity-2-Road-to-Rigor-Lab-Version-f4dd81984ff9479abe02f9cb0d22e2ef?pvs=4)   \n",
    "- [Figma Link](https://www.figma.com/file/TLy88djf0uNoP0vUOi7AcU/R2R-LM-Activity-2?type=design&node-id=0%3A1&mode=design&t=NqCOeW8LgJ3UeStH-1)\n",
    "- [Demo Link](https://audience-prompting.vercel.app/?q=Why%20did%20you%20become%20a%20scientist%3F)\n",
    "```  \n",
    "```{admonition} Activity: Rigor Cloud\n",
    ":class: tip\n",
    "As a presenting student, I want my lab mates to first be asked these two questions (audience prompting, anonymous mode):\n",
    "\n",
    "- Why did you decide to become a scientist?\n",
    "- Which metrics determine your professional success?\n",
    "\n",
    "Once we’ve reviewed and discussed these, I want to be able to browse common reasons people become scientists and identify ways that those reasons relate to rigor by clicking into and exploring word clouds and seeing associated responses. I also want to be able to do the same with practical, real-life metrics that determine my professional success. \n",
    "```"
   ]
  },
  {
   "cell_type": "code",
   "execution_count": null,
   "metadata": {},
   "outputs": [],
   "source": []
  }
 ],
 "metadata": {
  "celltoolbar": "Tags",
  "colab": {
   "provenance": []
  },
  "kernelspec": {
   "display_name": "Python 3 (ipykernel)",
   "language": "python",
   "name": "python3"
  },
  "language_info": {
   "codemirror_mode": {
    "name": "ipython",
    "version": 3
   },
   "file_extension": ".py",
   "mimetype": "text/x-python",
   "name": "python",
   "nbconvert_exporter": "python",
   "pygments_lexer": "ipython3",
   "version": "3.10.10"
  }
 },
 "nbformat": 4,
 "nbformat_minor": 1
}
