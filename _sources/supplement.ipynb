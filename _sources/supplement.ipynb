{
 "cells": [
  {
   "cell_type": "markdown",
   "metadata": {
    "id": "HQC5ZLxIdS2g"
   },
   "source": [
    "## Supplementary Materials\n",
    "\n",
    "![image alt ><](https://i.imgur.com/rebLJ35.png#center) "
   ]
  },
  {
   "cell_type": "markdown",
   "metadata": {},
   "source": [
    "````{tab-set}\n",
    "```{tab-item} Tool Repository\n",
    "We’ve collected a list of all sorts of rigor & reproducibility related tools along with links to relevant landing pages, notes as to whether a given tool is free and open source, and the specific part of the research process for which they might prove most useful. We even provide you with quick 10 minute exercises designed to give you an idea of how you make appropriate use of each tool! Check them out and spread the word, or submit tools we missed!    \n",
    "**[Link](https://c4r.io/?page_id=458)**.\n",
    "```\n",
    "\n",
    "```{tab-item} Community Index\n",
    "This is an index of various communities that serve to highlight tools, disseminate news, facilitate connection and guidance, and nurture the next generation of rigor champions. They empower, inform, and act as agents of (much needed) change — so be sure to join the discussion and do your part for rigor!   \n",
    "**[Link](https://c4r.io/?page_id=1094&preview=true)**.\n",
    "```\n",
    "\n",
    "```{tab-item} Champions Directory\n",
    "In order to ensure that the rigor community remains connected, self-identifying rigor champions are welcome to register with us to be listed in this directory and indicate their career stage, area of expertise, and open-ness to contact.     \n",
    "**[Link](https://c4r.io/?page_id=387&preview=true)**.\n",
    "```\n",
    "````"
   ]
  },
  {
   "cell_type": "code",
   "execution_count": null,
   "metadata": {},
   "outputs": [],
   "source": []
  }
 ],
 "metadata": {
  "celltoolbar": "Tags",
  "colab": {
   "provenance": []
  },
  "kernelspec": {
   "display_name": "Python 3 (ipykernel)",
   "language": "python",
   "name": "python3"
  },
  "language_info": {
   "codemirror_mode": {
    "name": "ipython",
    "version": 3
   },
   "file_extension": ".py",
   "mimetype": "text/x-python",
   "name": "python",
   "nbconvert_exporter": "python",
   "pygments_lexer": "ipython3",
   "version": "3.10.10"
  }
 },
 "nbformat": 4,
 "nbformat_minor": 1
}
