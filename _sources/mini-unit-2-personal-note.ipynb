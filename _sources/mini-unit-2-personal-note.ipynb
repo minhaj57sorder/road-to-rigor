{
 "cells": [
  {
   "cell_type": "markdown",
   "metadata": {
    "id": "2u83dT73J3zb"
   },
   "source": [
    "# Motive & Method\n",
    "\n",
    "**Mini-Unit Learning Objectives**  \n",
    "By the end of this mini-unit, you will be able to...\n",
    "1. ...articulate your own motivations and goals for pursuing research.\n",
    "2. ...examine the connections between those motivations/goals and the rigor of your work.\n",
    "\n",
    "\n",
    "## A Personal Note\n",
    "\n",
    "![image alt ><](https://i.imgur.com/0pVtDSg.png#center) "
   ]
  }
 ],
 "metadata": {
  "celltoolbar": "Tags",
  "colab": {
   "provenance": []
  },
  "kernelspec": {
   "display_name": "Python 3 (ipykernel)",
   "language": "python",
   "name": "python3"
  },
  "language_info": {
   "codemirror_mode": {
    "name": "ipython",
    "version": 3
   },
   "file_extension": ".py",
   "mimetype": "text/x-python",
   "name": "python",
   "nbconvert_exporter": "python",
   "pygments_lexer": "ipython3",
   "version": "3.10.10"
  }
 },
 "nbformat": 4,
 "nbformat_minor": 1
}
